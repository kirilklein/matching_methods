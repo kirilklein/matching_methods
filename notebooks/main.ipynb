{
 "cells": [
  {
   "cell_type": "code",
   "execution_count": 1,
   "metadata": {},
   "outputs": [],
   "source": [
    "import numpy as np"
   ]
  },
  {
   "cell_type": "markdown",
   "metadata": {},
   "source": [
    "In an observational study one often is faced with the situation of being given a\n",
    "subset fo the initial population and wants to estimate the effect of a \n",
    "treatment/exposure.\\\n",
    "We are given the treatment Z and the outcome Y for every patient, and want to use this to estimate the\n",
    "effect of the treatment on the outcome. Let's take as an example a study where \n",
    "we want to estimate whether smoking increases the risk of lung cancer. \n",
    "Since smoking is not a random exposure, just comparing all the smokers \n",
    "and all the non-smokers would introduce a bias. This bias occurs because smokers \n",
    "are more likely to also have an unhealthy lifestyle. So, by comparing the two initial groups, \n",
    "we might measure the effect from other factors that are often present in smokers,\n",
    "like for example an increased alcohol consumption or an unhealthy diet, \n",
    "which also increase the risk of cancer.\\\n",
    "Our goal is thus to account for those factors, called confounders or covariates (X).\n",
    "One popular way to do it is to us propensity scores PS. The propensity score\n",
    "estimates the probability of exposure (smoking), so we then can take non-smokers \n",
    "that have a similar PS and match them to the smokers. \n",
    "Here, we will look at different matching techniques and theire effect on \n",
    "our estimation of the exposure effect."
   ]
  },
  {
   "cell_type": "code",
   "execution_count": null,
   "metadata": {},
   "outputs": [],
   "source": []
  }
 ],
 "metadata": {
  "interpreter": {
   "hash": "fd64557248a61079a8b01b27957eac8e3bd9d72e2f60908e3e6321fba2096ec7"
  },
  "kernelspec": {
   "display_name": "Python 3.7.11 ('cobra')",
   "language": "python",
   "name": "python3"
  },
  "language_info": {
   "codemirror_mode": {
    "name": "ipython",
    "version": 3
   },
   "file_extension": ".py",
   "mimetype": "text/x-python",
   "name": "python",
   "nbconvert_exporter": "python",
   "pygments_lexer": "ipython3",
   "version": "3.7.11"
  },
  "orig_nbformat": 4
 },
 "nbformat": 4,
 "nbformat_minor": 2
}
